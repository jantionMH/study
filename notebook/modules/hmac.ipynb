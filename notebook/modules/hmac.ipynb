{
 "cells": [
  {
   "cell_type": "code",
   "execution_count": 8,
   "metadata": {},
   "outputs": [
    {
     "data": {
      "text/plain": [
       "'56c83dc453f66c4d4bf05f8ab65179f12b7410e2'"
      ]
     },
     "execution_count": 8,
     "metadata": {},
     "output_type": "execute_result"
    }
   ],
   "source": [
    "# 计算 hmac_sha1 加密值\n",
    "import hmac\n",
    "import hashlib\n",
    "\n",
    "message = 'wxnacy'\n",
    "key = 'wxnacy.com'\n",
    "\n",
    "h = hmac.new(key.encode('utf-8'), message.encode('utf-8'), hashlib.sha1)\n",
    "# 计算 16 进制编码字符串\n",
    "h.hexdigest()"
   ]
  },
  {
   "cell_type": "code",
   "execution_count": 7,
   "metadata": {},
   "outputs": [
    {
     "data": {
      "text/plain": [
       "'Vsg9xFP2bE1L8F+KtlF58St0EOI='"
      ]
     },
     "execution_count": 7,
     "metadata": {},
     "output_type": "execute_result"
    }
   ],
   "source": [
    "# 使用 base64 将 hmac 结果编码为字符串\n",
    "import base64\n",
    "base64.b64encode(h.digest()).decode()"
   ]
  },
  {
   "cell_type": "code",
   "execution_count": null,
   "metadata": {},
   "outputs": [],
   "source": []
  }
 ],
 "metadata": {
  "kernelspec": {
   "display_name": "Python 3",
   "language": "python",
   "name": "python3"
  },
  "language_info": {
   "codemirror_mode": {
    "name": "ipython",
    "version": 3
   },
   "file_extension": ".py",
   "mimetype": "text/x-python",
   "name": "python",
   "nbconvert_exporter": "python",
   "pygments_lexer": "ipython3",
   "version": "3.7.6"
  }
 },
 "nbformat": 4,
 "nbformat_minor": 4
}
