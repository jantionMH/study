{
 "cells": [
  {
   "cell_type": "code",
   "execution_count": 6,
   "metadata": {},
   "outputs": [
    {
     "name": "stdout",
     "output_type": "stream",
     "text": [
      "(1, 'Daisy', 92)\n"
     ]
    }
   ],
   "source": [
    "# 您可以通过将数据库用作异步上下文管理器来控制数据库的连接/断开连接。\n",
    "import config\n",
    "from databases import Database\n",
    "async with Database(config.DATABASE_URL) as database:\n",
    "    row = await database.fetch_one(query=\"select * from test_user;\")\n",
    "    print(row)"
   ]
  },
  {
   "cell_type": "code",
   "execution_count": null,
   "metadata": {},
   "outputs": [],
   "source": [
    "'''\n",
    "If you're integrating against a web framework, \n",
    "then you'll probably want to hook into framework \n",
    "startup or shutdown events. For example, with Starlette you would use the following:\n",
    "'''\n",
    "@app.on_event(\"startup\")\n",
    "async def startup():\n",
    "    await database.connect()\n",
    "\n",
    "@app.on_event(\"shutdown\")\n",
    "async def shutdown():\n",
    "    await database.disconnect()"
   ]
  },
  {
   "cell_type": "code",
   "execution_count": null,
   "metadata": {},
   "outputs": [],
   "source": [
    "# 连接选项\n",
    "# Use an SSL connection.\n",
    "database = Database('postgresql://localhost/example?ssl=true')"
   ]
  },
  {
   "cell_type": "code",
   "execution_count": null,
   "metadata": {},
   "outputs": [],
   "source": [
    "# Use a connection pool of between 5-20 connections.\n",
    "database = Database('mysql://localhost/example?min_size=5&max_size=20')"
   ]
  },
  {
   "cell_type": "code",
   "execution_count": null,
   "metadata": {},
   "outputs": [],
   "source": [
    "# 使用键值对设置选项\n",
    "database = Database('postgresql://localhost/example', ssl=True, min_size=5, max_size=20)"
   ]
  },
  {
   "cell_type": "code",
   "execution_count": 19,
   "metadata": {},
   "outputs": [],
   "source": [
    "# 测试连接池\n",
    "\n",
    "from databases import Database\n",
    "import multiprocessing as mp\n",
    "import config\n",
    "\n",
    "database = Database(config.DATABASE_URL, min_size=2, max_size=5)\n",
    "await database.connect()\n",
    "\n",
    "def sleep():\n",
    "    print(\"hw\")\n",
    "    # res = database.fetch_one(\"select sleep(1)\")\n",
    "    print(res)\n",
    "\n",
    "pool = mp.Pool(10)\n",
    "for i in range(10):\n",
    "    pool.apply_async(sleep, ())\n",
    "await database.disconnect()"
   ]
  },
  {
   "cell_type": "code",
   "execution_count": 16,
   "metadata": {},
   "outputs": [
    {
     "ename": "AssertionError",
     "evalue": "Already disconnected.",
     "output_type": "error",
     "traceback": [
      "\u001b[0;31m---------------------------------------------------------------------------\u001b[0m",
      "\u001b[0;31mAssertionError\u001b[0m                            Traceback (most recent call last)",
      "\u001b[0;32m<ipython-input-16-d0df956c05ea>\u001b[0m in \u001b[0;36masync-def-wrapper\u001b[0;34m()\u001b[0m\n",
      "\u001b[0;32m~/.pyenv/versions/3.7.6/Python.framework/Versions/3.7/lib/python3.7/site-packages/databases/core.py\u001b[0m in \u001b[0;36mdisconnect\u001b[0;34m(self)\u001b[0m\n\u001b[1;32m    103\u001b[0m         \u001b[0mClose\u001b[0m \u001b[0mall\u001b[0m \u001b[0mconnections\u001b[0m \u001b[0;32min\u001b[0m \u001b[0mthe\u001b[0m \u001b[0mconnection\u001b[0m \u001b[0mpool\u001b[0m\u001b[0;34m.\u001b[0m\u001b[0;34m\u001b[0m\u001b[0;34m\u001b[0m\u001b[0m\n\u001b[1;32m    104\u001b[0m         \"\"\"\n\u001b[0;32m--> 105\u001b[0;31m         \u001b[0;32massert\u001b[0m \u001b[0mself\u001b[0m\u001b[0;34m.\u001b[0m\u001b[0mis_connected\u001b[0m\u001b[0;34m,\u001b[0m \u001b[0;34m\"Already disconnected.\"\u001b[0m\u001b[0;34m\u001b[0m\u001b[0;34m\u001b[0m\u001b[0m\n\u001b[0m\u001b[1;32m    106\u001b[0m \u001b[0;34m\u001b[0m\u001b[0m\n\u001b[1;32m    107\u001b[0m         \u001b[0;32mif\u001b[0m \u001b[0mself\u001b[0m\u001b[0;34m.\u001b[0m\u001b[0m_force_rollback\u001b[0m\u001b[0;34m:\u001b[0m\u001b[0;34m\u001b[0m\u001b[0;34m\u001b[0m\u001b[0m\n",
      "\u001b[0;31mAssertionError\u001b[0m: Already disconnected."
     ]
    }
   ],
   "source": [
    "await database.disconnect()"
   ]
  },
  {
   "cell_type": "code",
   "execution_count": null,
   "metadata": {},
   "outputs": [],
   "source": []
  }
 ],
 "metadata": {
  "kernelspec": {
   "display_name": "Python 3",
   "language": "python",
   "name": "python3"
  },
  "language_info": {
   "codemirror_mode": {
    "name": "ipython",
    "version": 3
   },
   "file_extension": ".py",
   "mimetype": "text/x-python",
   "name": "python",
   "nbconvert_exporter": "python",
   "pygments_lexer": "ipython3",
   "version": "3.7.6"
  }
 },
 "nbformat": 4,
 "nbformat_minor": 4
}
