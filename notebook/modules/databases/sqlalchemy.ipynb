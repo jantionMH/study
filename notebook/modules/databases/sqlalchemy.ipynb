{
 "cells": [
  {
   "cell_type": "code",
   "execution_count": 5,
   "metadata": {},
   "outputs": [],
   "source": [
    "# 使用 sqlalchemy 进行数据库操作\n",
    "import sqlalchemy\n",
    "from sqlalchemy import Column\n",
    "from sqlalchemy import Integer\n",
    "from sqlalchemy import String\n",
    "from sqlalchemy import Boolean\n",
    "import config\n",
    "\n",
    "\n",
    "metadata = sqlalchemy.MetaData()\n",
    "\n",
    "user = sqlalchemy.Table(\n",
    "    \"test_user\",\n",
    "    metadata,\n",
    "    Column(\"id\", Integer, primary_key=True),\n",
    "    Column(\"name\", String(length=100)),\n",
    "    Column(\"score\", Integer),\n",
    ")"
   ]
  },
  {
   "cell_type": "code",
   "execution_count": 3,
   "metadata": {},
   "outputs": [],
   "source": [
    "# Create a database instance, and connect to it.\n",
    "from databases import Database\n",
    "database = Database(config.DATABASE_URL)\n",
    "await database.connect()"
   ]
  },
  {
   "cell_type": "code",
   "execution_count": 4,
   "metadata": {},
   "outputs": [
    {
     "data": {
      "text/plain": [
       "7"
      ]
     },
     "execution_count": 4,
     "metadata": {},
     "output_type": "execute_result"
    }
   ],
   "source": [
    "# Execute\n",
    "query = user.insert()\n",
    "values = {\"name\": \"wxnacy\", \"score\": 100}\n",
    "await database.execute(query=query, values=values)"
   ]
  },
  {
   "cell_type": "code",
   "execution_count": 15,
   "metadata": {},
   "outputs": [],
   "source": [
    "# Execute many\n",
    "query = user.insert()\n",
    "values = [\n",
    "    {\"name\": \"wxnacy\", \"score\": 100},\n",
    "    {\"name\": \"wen\", \"score\": 100}\n",
    "]\n",
    "await database.execute_many(query=query, values=values)"
   ]
  },
  {
   "cell_type": "code",
   "execution_count": 27,
   "metadata": {},
   "outputs": [
    {
     "data": {
      "text/plain": [
       "([(1, 'Daisy', 92),\n",
       "  (2, 'Neil', 87),\n",
       "  (3, 'Carol', 43),\n",
       "  (4, 'wxnacy', 100),\n",
       "  (5, 'wxnacy', 100),\n",
       "  (6, 'wen', 100)],\n",
       " list)"
      ]
     },
     "execution_count": 27,
     "metadata": {},
     "output_type": "execute_result"
    }
   ],
   "source": [
    "# Fetch multiple rows\n",
    "query = user.select()\n",
    "rows = await database.fetch_all(query=query)\n",
    "rows, type(rows)"
   ]
  },
  {
   "cell_type": "code",
   "execution_count": 29,
   "metadata": {},
   "outputs": [
    {
     "data": {
      "text/plain": [
       "((1, 'Daisy', 92), sqlalchemy.engine.result.RowProxy, 1)"
      ]
     },
     "execution_count": 29,
     "metadata": {},
     "output_type": "execute_result"
    }
   ],
   "source": [
    "# Fetch single row\n",
    "query = user.select()\n",
    "row = await database.fetch_one(query=query)\n",
    "row, type(row), row.id"
   ]
  },
  {
   "cell_type": "code",
   "execution_count": 20,
   "metadata": {},
   "outputs": [
    {
     "data": {
      "text/plain": [
       "1"
      ]
     },
     "execution_count": 20,
     "metadata": {},
     "output_type": "execute_result"
    }
   ],
   "source": [
    "# Fetch single value, defaults to `column=0`.\n",
    "query = user.select()\n",
    "await database.fetch_val(query=query)"
   ]
  },
  {
   "cell_type": "code",
   "execution_count": 22,
   "metadata": {},
   "outputs": [
    {
     "name": "stdout",
     "output_type": "stream",
     "text": [
      "(1, 'Daisy', 92)\n",
      "(2, 'Neil', 87)\n",
      "(3, 'Carol', 43)\n",
      "(4, 'wxnacy', 100)\n",
      "(5, 'wxnacy', 100)\n",
      "(6, 'wen', 100)\n"
     ]
    }
   ],
   "source": [
    "# Fetch multiple rows without loading them all into memory at once\n",
    "query = user.select()\n",
    "async for row in database.iterate(query=query):\n",
    "    print(row)"
   ]
  },
  {
   "cell_type": "code",
   "execution_count": 7,
   "metadata": {},
   "outputs": [
    {
     "name": "stdout",
     "output_type": "stream",
     "text": [
      "Help on method select in module sqlalchemy.sql.selectable:\n",
      "\n",
      "select(whereclause=None, **params) method of sqlalchemy.sql.schema.Table instance\n",
      "    return a SELECT of this :class:`.FromClause`.\n",
      "    \n",
      "    .. seealso::\n",
      "    \n",
      "        :func:`~.sql.expression.select` - general purpose\n",
      "        method which allows for arbitrary column lists.\n",
      "\n"
     ]
    }
   ],
   "source": [
    "help(user.select)"
   ]
  },
  {
   "cell_type": "code",
   "execution_count": 10,
   "metadata": {},
   "outputs": [
    {
     "data": {
      "text/plain": [
       "[(1, 'Daisy', 92)]"
      ]
     },
     "execution_count": 10,
     "metadata": {},
     "output_type": "execute_result"
    }
   ],
   "source": [
    "from sqlalchemy import text\n",
    "query = user.select(text(\"id = 1\"))\n",
    "await database.fetch_all(query=query)"
   ]
  },
  {
   "cell_type": "code",
   "execution_count": null,
   "metadata": {},
   "outputs": [],
   "source": []
  }
 ],
 "metadata": {
  "kernelspec": {
   "display_name": "Python 3",
   "language": "python",
   "name": "python3"
  },
  "language_info": {
   "codemirror_mode": {
    "name": "ipython",
    "version": 3
   },
   "file_extension": ".py",
   "mimetype": "text/x-python",
   "name": "python",
   "nbconvert_exporter": "python",
   "pygments_lexer": "ipython3",
   "version": "3.7.6"
  }
 },
 "nbformat": 4,
 "nbformat_minor": 4
}
