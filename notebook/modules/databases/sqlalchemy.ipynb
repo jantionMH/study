{
 "cells": [
  {
   "cell_type": "code",
   "execution_count": 4,
   "metadata": {},
   "outputs": [
    {
     "name": "stdout",
     "output_type": "stream",
     "text": [
      "Collecting databases\n",
      "  Using cached databases-0.3.2-py3-none-any.whl (18 kB)\n",
      "Requirement already satisfied: sqlalchemy in /Users/wxnacy/.pyenv/versions/3.7.6/envs/notebook/lib/python3.7/site-packages (from databases) (1.3.17)\n",
      "Installing collected packages: databases\n",
      "Successfully installed databases-0.3.2\n",
      "Note: you may need to restart the kernel to use updated packages.\n"
     ]
    }
   ],
   "source": [
    "pip install databases"
   ]
  },
  {
   "cell_type": "code",
   "execution_count": 3,
   "metadata": {},
   "outputs": [],
   "source": [
    "# 使用 sqlalchemy 进行数据库操作\n",
    "import sqlalchemy\n",
    "from sqlalchemy import Column\n",
    "from sqlalchemy import Integer\n",
    "from sqlalchemy import String\n",
    "from sqlalchemy import Boolean\n",
    "import config\n",
    "\n",
    "\n",
    "metadata = sqlalchemy.MetaData()\n",
    "\n",
    "user = sqlalchemy.Table(\n",
    "    \"test_user\",\n",
    "    metadata,\n",
    "    Column(\"id\", Integer, primary_key=True),\n",
    "    Column(\"name\", String(length=100)),\n",
    "    Column(\"score\", Integer),\n",
    ")"
   ]
  },
  {
   "cell_type": "code",
   "execution_count": 4,
   "metadata": {},
   "outputs": [],
   "source": [
    "# Create a database instance, and connect to it.\n",
    "from databases import Database\n",
    "database = Database(config.DATABASE_URL)\n",
    "await database.connect()"
   ]
  },
  {
   "cell_type": "code",
   "execution_count": 4,
   "metadata": {},
   "outputs": [
    {
     "data": {
      "text/plain": [
       "7"
      ]
     },
     "execution_count": 4,
     "metadata": {},
     "output_type": "execute_result"
    }
   ],
   "source": [
    "# Execute\n",
    "query = user.insert()\n",
    "values = {\"name\": \"wxnacy\", \"score\": 100}\n",
    "await database.execute(query=query, values=values)"
   ]
  },
  {
   "cell_type": "code",
   "execution_count": 15,
   "metadata": {},
   "outputs": [],
   "source": [
    "# Execute many\n",
    "query = user.insert()\n",
    "values = [\n",
    "    {\"name\": \"wxnacy\", \"score\": 100},\n",
    "    {\"name\": \"wen\", \"score\": 100}\n",
    "]\n",
    "await database.execute_many(query=query, values=values)"
   ]
  },
  {
   "cell_type": "code",
   "execution_count": 27,
   "metadata": {},
   "outputs": [
    {
     "data": {
      "text/plain": [
       "([(1, 'Daisy', 92),\n",
       "  (2, 'Neil', 87),\n",
       "  (3, 'Carol', 43),\n",
       "  (4, 'wxnacy', 100),\n",
       "  (5, 'wxnacy', 100),\n",
       "  (6, 'wen', 100)],\n",
       " list)"
      ]
     },
     "execution_count": 27,
     "metadata": {},
     "output_type": "execute_result"
    }
   ],
   "source": [
    "# Fetch multiple rows\n",
    "query = user.select()\n",
    "rows = await database.fetch_all(query=query)\n",
    "rows, type(rows)"
   ]
  },
  {
   "cell_type": "code",
   "execution_count": 29,
   "metadata": {},
   "outputs": [
    {
     "data": {
      "text/plain": [
       "((1, 'Daisy', 92), sqlalchemy.engine.result.RowProxy, 1)"
      ]
     },
     "execution_count": 29,
     "metadata": {},
     "output_type": "execute_result"
    }
   ],
   "source": [
    "# Fetch single row\n",
    "query = user.select()\n",
    "row = await database.fetch_one(query=query)\n",
    "row, type(row), row.id"
   ]
  },
  {
   "cell_type": "code",
   "execution_count": 20,
   "metadata": {},
   "outputs": [
    {
     "data": {
      "text/plain": [
       "1"
      ]
     },
     "execution_count": 20,
     "metadata": {},
     "output_type": "execute_result"
    }
   ],
   "source": [
    "# Fetch single value, defaults to `column=0`.\n",
    "query = user.select()\n",
    "await database.fetch_val(query=query)"
   ]
  },
  {
   "cell_type": "code",
   "execution_count": 22,
   "metadata": {},
   "outputs": [
    {
     "name": "stdout",
     "output_type": "stream",
     "text": [
      "(1, 'Daisy', 92)\n",
      "(2, 'Neil', 87)\n",
      "(3, 'Carol', 43)\n",
      "(4, 'wxnacy', 100)\n",
      "(5, 'wxnacy', 100)\n",
      "(6, 'wen', 100)\n"
     ]
    }
   ],
   "source": [
    "# Fetch multiple rows without loading them all into memory at once\n",
    "query = user.select()\n",
    "async for row in database.iterate(query=query):\n",
    "    print(row)"
   ]
  },
  {
   "cell_type": "code",
   "execution_count": 7,
   "metadata": {},
   "outputs": [
    {
     "name": "stdout",
     "output_type": "stream",
     "text": [
      "Help on method select in module sqlalchemy.sql.selectable:\n",
      "\n",
      "select(whereclause=None, **params) method of sqlalchemy.sql.schema.Table instance\n",
      "    return a SELECT of this :class:`.FromClause`.\n",
      "    \n",
      "    .. seealso::\n",
      "    \n",
      "        :func:`~.sql.expression.select` - general purpose\n",
      "        method which allows for arbitrary column lists.\n",
      "\n"
     ]
    }
   ],
   "source": [
    "help(user.select)"
   ]
  },
  {
   "cell_type": "code",
   "execution_count": 14,
   "metadata": {},
   "outputs": [
    {
     "data": {
      "text/plain": [
       "[(1, 'Daisy', 92)]"
      ]
     },
     "execution_count": 14,
     "metadata": {},
     "output_type": "execute_result"
    }
   ],
   "source": [
    "from sqlalchemy import text\n",
    "query = user.select(text(\"id = 1\"))\n",
    "await database.fetch_all(query=query)"
   ]
  },
  {
   "cell_type": "code",
   "execution_count": 19,
   "metadata": {},
   "outputs": [
    {
     "name": "stdout",
     "output_type": "stream",
     "text": [
      "Help on method where in module sqlalchemy.sql.selectable:\n",
      "\n",
      "where(whereclause) method of sqlalchemy.sql.selectable.Select instance\n",
      "    return a new select() construct with the given expression added to\n",
      "    its WHERE clause, joined to the existing clause via AND, if any.\n",
      "\n"
     ]
    },
    {
     "data": {
      "text/plain": [
       "[(1, 'Daisy', 92)]"
      ]
     },
     "execution_count": 19,
     "metadata": {},
     "output_type": "execute_result"
    }
   ],
   "source": [
    "help(user.select().where)\n",
    "\n",
    "query = user.select().where(text(\"id = 1\"))\n",
    "await database.fetch_all(query=query)"
   ]
  },
  {
   "cell_type": "code",
   "execution_count": 3,
   "metadata": {},
   "outputs": [
    {
     "data": {
      "text/plain": [
       "['__and__',\n",
       " '__bool__',\n",
       " '__class__',\n",
       " '__delattr__',\n",
       " '__dict__',\n",
       " '__dir__',\n",
       " '__doc__',\n",
       " '__eq__',\n",
       " '__format__',\n",
       " '__ge__',\n",
       " '__getattribute__',\n",
       " '__getstate__',\n",
       " '__gt__',\n",
       " '__hash__',\n",
       " '__init__',\n",
       " '__init_subclass__',\n",
       " '__invert__',\n",
       " '__le__',\n",
       " '__lt__',\n",
       " '__module__',\n",
       " '__ne__',\n",
       " '__new__',\n",
       " '__nonzero__',\n",
       " '__or__',\n",
       " '__reduce__',\n",
       " '__reduce_ex__',\n",
       " '__repr__',\n",
       " '__setattr__',\n",
       " '__sizeof__',\n",
       " '__str__',\n",
       " '__subclasshook__',\n",
       " '__visit_name__',\n",
       " '__weakref__',\n",
       " '_annotate',\n",
       " '_annotations',\n",
       " '_autoincrement_column',\n",
       " '_autoload',\n",
       " '_clone',\n",
       " '_cloned_set',\n",
       " '_cols_populated',\n",
       " '_columns',\n",
       " '_compiler',\n",
       " '_compiler_dispatch',\n",
       " '_constructor',\n",
       " '_copy_internals',\n",
       " '_deannotate',\n",
       " '_execute_on_connection',\n",
       " '_extra_dependencies',\n",
       " '_extra_kwargs',\n",
       " '_from_objects',\n",
       " '_hide_froms',\n",
       " '_init',\n",
       " '_init_collections',\n",
       " '_init_existing',\n",
       " '_init_items',\n",
       " '_is_clone_of',\n",
       " '_is_from_container',\n",
       " '_is_join',\n",
       " '_is_lateral',\n",
       " '_is_lexical_equivalent',\n",
       " '_is_select',\n",
       " '_kw_reg_for_dialect',\n",
       " '_kw_reg_for_dialect_cls',\n",
       " '_kw_registry',\n",
       " '_memoized_property',\n",
       " '_negate',\n",
       " '_order_by_label_element',\n",
       " '_params',\n",
       " '_populate_column_collection',\n",
       " '_prefixes',\n",
       " '_refresh_for_new_column',\n",
       " '_reset_exported',\n",
       " '_schema_item_copy',\n",
       " '_select_iterable',\n",
       " '_set_parent',\n",
       " '_set_parent_with_dispatch',\n",
       " '_sorted_constraints',\n",
       " '_textual',\n",
       " '_translate_schema',\n",
       " '_validate_dialect_kwargs',\n",
       " '_with_annotations',\n",
       " 'add_is_dependent_on',\n",
       " 'alias',\n",
       " 'append_column',\n",
       " 'append_constraint',\n",
       " 'append_ddl_listener',\n",
       " 'argument_for',\n",
       " 'bind',\n",
       " 'c',\n",
       " 'columns',\n",
       " 'comment',\n",
       " 'compare',\n",
       " 'compile',\n",
       " 'constraints',\n",
       " 'correspond_on_equivalents',\n",
       " 'corresponding_column',\n",
       " 'count',\n",
       " 'create',\n",
       " 'delete',\n",
       " 'description',\n",
       " 'dialect_kwargs',\n",
       " 'dialect_options',\n",
       " 'dispatch',\n",
       " 'drop',\n",
       " 'exists',\n",
       " 'foreign_key_constraints',\n",
       " 'foreign_keys',\n",
       " 'fullname',\n",
       " 'get_children',\n",
       " 'implicit_returning',\n",
       " 'indexes',\n",
       " 'info',\n",
       " 'insert',\n",
       " 'is_clause_element',\n",
       " 'is_derived_from',\n",
       " 'is_selectable',\n",
       " 'join',\n",
       " 'key',\n",
       " 'kwargs',\n",
       " 'lateral',\n",
       " 'metadata',\n",
       " 'name',\n",
       " 'named_with_column',\n",
       " 'outerjoin',\n",
       " 'params',\n",
       " 'primary_key',\n",
       " 'quote',\n",
       " 'quote_schema',\n",
       " 'replace_selectable',\n",
       " 'schema',\n",
       " 'select',\n",
       " 'selectable',\n",
       " 'self_group',\n",
       " 'supports_execution',\n",
       " 'tablesample',\n",
       " 'tometadata',\n",
       " 'unique_params',\n",
       " 'update']"
      ]
     },
     "execution_count": 3,
     "metadata": {},
     "output_type": "execute_result"
    }
   ],
   "source": [
    "# 查看 user 属性\n",
    "dir(user)"
   ]
  },
  {
   "cell_type": "code",
   "execution_count": null,
   "metadata": {},
   "outputs": [],
   "source": []
  }
 ],
 "metadata": {
  "kernelspec": {
   "display_name": "Python 3",
   "language": "python",
   "name": "python3"
  },
  "language_info": {
   "codemirror_mode": {
    "name": "ipython",
    "version": 3
   },
   "file_extension": ".py",
   "mimetype": "text/x-python",
   "name": "python",
   "nbconvert_exporter": "python",
   "pygments_lexer": "ipython3",
   "version": "3.7.6"
  }
 },
 "nbformat": 4,
 "nbformat_minor": 4
}
