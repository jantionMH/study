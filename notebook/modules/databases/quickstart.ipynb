{
 "cells": [
  {
   "cell_type": "code",
   "execution_count": 1,
   "metadata": {
    "scrolled": true
   },
   "outputs": [
    {
     "name": "stdout",
     "output_type": "stream",
     "text": [
      "Collecting databases[mysql]\n",
      "  Downloading databases-0.3.2-py3-none-any.whl (18 kB)\n",
      "Requirement already satisfied: sqlalchemy in /Users/wxnacy/.pyenv/versions/3.7.6/Python.framework/Versions/3.7/lib/python3.7/site-packages (from databases[mysql]) (1.3.15)\n",
      "Collecting aiomysql; extra == \"mysql\"\n",
      "  Downloading aiomysql-0.0.20-py3-none-any.whl (40 kB)\n",
      "\u001b[K     |████████████████████████████████| 40 kB 128 kB/s ta 0:00:01\n",
      "\u001b[?25hRequirement already satisfied: pymysql; extra == \"mysql\" in /Users/wxnacy/.pyenv/versions/3.7.6/Python.framework/Versions/3.7/lib/python3.7/site-packages (from databases[mysql]) (0.9.3)\n",
      "\u001b[31mERROR: aiomysql 0.0.20 has requirement PyMySQL<=0.9.2,>=0.9, but you'll have pymysql 0.9.3 which is incompatible.\u001b[0m\n",
      "Installing collected packages: aiomysql, databases\n",
      "Successfully installed aiomysql-0.0.20 databases-0.3.2\n"
     ]
    }
   ],
   "source": [
    "'''\n",
    "https://www.encode.io/databases/\n",
    "databases 为您提供了对一系列数据库的简单异步支持。\n",
    "\n",
    "它使您可以使用功能强大的SQLAlchemy Core表达式语言进行查询，并提供对PostgreSQL，MySQL和SQLite的支持。\n",
    "\n",
    "'''\n",
    "\n",
    "# 安装\n",
    "!pip install databases[mysql]"
   ]
  },
  {
   "cell_type": "code",
   "execution_count": 12,
   "metadata": {},
   "outputs": [],
   "source": [
    "# Create a database instance, and connect to it.\n",
    "from databases import Database\n",
    "import config\n",
    "database = Database(config.DATABASE_URL)\n",
    "await database.connect()"
   ]
  },
  {
   "cell_type": "code",
   "execution_count": 13,
   "metadata": {},
   "outputs": [
    {
     "data": {
      "text/plain": [
       "0"
      ]
     },
     "execution_count": 13,
     "metadata": {},
     "output_type": "execute_result"
    }
   ],
   "source": [
    "# Create a table.\n",
    "query = \"\"\"\n",
    "DROP TABLE IF EXISTS `test_user`;\n",
    "CREATE TABLE `test_user` (id INT NOT NULL PRIMARY KEY AUTO_INCREMENT, name VARCHAR(100), score INT);\n",
    "\"\"\"\n",
    "await database.execute(query=query)"
   ]
  },
  {
   "cell_type": "code",
   "execution_count": 14,
   "metadata": {},
   "outputs": [],
   "source": [
    "# Insert some data.\n",
    "query = \"INSERT INTO test_user (name, score) VALUES (:name, :score)\"\n",
    "values = [\n",
    "    {\"name\": \"Daisy\", \"score\": 92},\n",
    "    {\"name\": \"Neil\", \"score\": 87},\n",
    "    {\"name\": \"Carol\", \"score\": 43},\n",
    "]\n",
    "await database.execute_many(query=query, values=values)"
   ]
  },
  {
   "cell_type": "code",
   "execution_count": 15,
   "metadata": {},
   "outputs": [
    {
     "data": {
      "text/plain": [
       "[(1, 'Daisy', 92), (2, 'Neil', 87), (3, 'Carol', 43)]"
      ]
     },
     "execution_count": 15,
     "metadata": {},
     "output_type": "execute_result"
    }
   ],
   "source": [
    "# Run a database query.\n",
    "query = \"SELECT * FROM test_user\"\n",
    "await database.fetch_all(query=query)"
   ]
  },
  {
   "cell_type": "code",
   "execution_count": 16,
   "metadata": {},
   "outputs": [
    {
     "data": {
      "text/plain": [
       "(1, 'Daisy', 92)"
      ]
     },
     "execution_count": 16,
     "metadata": {},
     "output_type": "execute_result"
    }
   ],
   "source": [
    "# Fetch single row\n",
    "query = \"SELECT * FROM test_user WHERE id = :id\"\n",
    "await database.fetch_one(query=query, values={\"id\": 1})"
   ]
  },
  {
   "cell_type": "code",
   "execution_count": 10,
   "metadata": {},
   "outputs": [],
   "source": [
    "# Close all connection in the connection pool\n",
    "await database.disconnect()"
   ]
  },
  {
   "cell_type": "code",
   "execution_count": null,
   "metadata": {},
   "outputs": [],
   "source": []
  }
 ],
 "metadata": {
  "kernelspec": {
   "display_name": "Python 3",
   "language": "python",
   "name": "python3"
  },
  "language_info": {
   "codemirror_mode": {
    "name": "ipython",
    "version": 3
   },
   "file_extension": ".py",
   "mimetype": "text/x-python",
   "name": "python",
   "nbconvert_exporter": "python",
   "pygments_lexer": "ipython3",
   "version": "3.7.6"
  }
 },
 "nbformat": 4,
 "nbformat_minor": 4
}
