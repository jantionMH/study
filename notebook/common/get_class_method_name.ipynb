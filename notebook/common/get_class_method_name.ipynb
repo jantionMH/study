{
 "cells": [
  {
   "cell_type": "code",
   "execution_count": 15,
   "metadata": {},
   "outputs": [
    {
     "name": "stdout",
     "output_type": "stream",
     "text": [
      "Name\n",
      "get_method_name_by_inspect\n",
      "get_method_name_by_inspect\n",
      "get_method_name_by_sys\n",
      "<module>\n"
     ]
    }
   ],
   "source": [
    "'''\n",
    "几种获取方法名的方式\n",
    "'''\n",
    "import sys\n",
    "import inspect\n",
    "class Name():\n",
    " \n",
    "    def get_method_name_by_sys(self):\n",
    "        '''使用 sys 获取方法名'''\n",
    "        return sys._getframe().f_code.co_name\n",
    "    \n",
    "    def get_class_name(self):\n",
    "        '''获取 class 名'''\n",
    "        return self.__class__.__name__\n",
    "    \n",
    "    def get_method_name_by_inspect(self):\n",
    "        '''获取当前方法名'''\n",
    "        print(self.get_run_method_name_by_inspect())\n",
    "        return inspect.stack()[0][3]\n",
    "    \n",
    "    def get_run_method_name_by_inspect(self):\n",
    "        '''\n",
    "        通过运行在其他方法中，并获取其方法名\n",
    "        '''\n",
    "        return inspect.stack()[1][3]\n",
    "    \n",
    " \n",
    "if __name__ == \"__main__\":\n",
    "    n = Name()\n",
    "    for k in dir(n):\n",
    "        if not k.startswith('get_'):\n",
    "            continue\n",
    "        print(getattr(n, k)())"
   ]
  }
 ],
 "metadata": {
  "kernelspec": {
   "display_name": "Python 3",
   "language": "python",
   "name": "python3"
  },
  "language_info": {
   "codemirror_mode": {
    "name": "ipython",
    "version": 3
   },
   "file_extension": ".py",
   "mimetype": "text/x-python",
   "name": "python",
   "nbconvert_exporter": "python",
   "pygments_lexer": "ipython3",
   "version": "3.7.6"
  }
 },
 "nbformat": 4,
 "nbformat_minor": 4
}
