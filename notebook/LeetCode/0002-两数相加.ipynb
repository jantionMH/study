{
 "cells": [
  {
   "cell_type": "markdown",
   "metadata": {},
   "source": [
    "难度：中等\n",
    "\n",
    "知识点：链表、数学\n",
    "\n",
    "地址： [https://leetcode-cn.com/problems/add-two-numbers/](https://leetcode-cn.com/problems/add-two-numbers/)\n",
    "\n",
    "\n",
    "给出两个 非空 的链表用来表示两个非负的整数。其中，它们各自的位数是按照 逆序 的方式存储的，并且它们的每个节点只能存储 一位 数字。\n",
    "\n",
    "如果，我们将这两个数相加起来，则会返回一个新的链表来表示它们的和。\n",
    "\n",
    "您可以假设除了数字 0 之外，这两个数都不会以 0 开头。\n",
    "\n",
    "示例:\n",
    "\n",
    "    输入：(2 -> 4 -> 3) + (5 -> 6 -> 4)\n",
    "    输出：7 -> 0 -> 8\n",
    "    原因：342 + 465 = 807\n"
   ]
  },
  {
   "cell_type": "code",
   "execution_count": 10,
   "metadata": {},
   "outputs": [],
   "source": [
    "from utils import ListNode\n",
    "from utils import array2listnode\n",
    "from utils import listnode2array\n",
    "\n",
    "class Solution:\n",
    "    def addTwoNumbers(self, l1: ListNode, l2: ListNode) -> ListNode:\n",
    "        '''\n",
    "        一遍循环\n",
    "        执行用时 : 88 ms, 在Add Two Numbers的Python3提交中击败了99.56% 的用户\n",
    "        内存消耗 : 13.1 MB, 在Add Two Numbers的Python3提交中击败了90.86% 的用户\n",
    "        '''\n",
    "        rem = 0 # 余数\n",
    "        l3 = ListNode(0)\n",
    "        l4 = l3\n",
    "        while l1 or l2 or rem:\n",
    "            n3 = rem\n",
    "            if l1:\n",
    "                n3 += l1.val\n",
    "                l1 = l1.next\n",
    "            if l2:\n",
    "                n3 += l2.val\n",
    "                l2 = l2.next\n",
    "            rem = n3 // 10\n",
    "            l4.next = ListNode(n3 % 10)\n",
    "            l4 = l4.next\n",
    "        return l3.next\n",
    "            \n",
    "                \n",
    "            \n",
    "s = Solution()\n",
    "assert listnode2array(s.addTwoNumbers(array2listnode([2, 4, 3]), array2listnode([5, 6, 4]))) == [7, 0, 8]\n",
    "# assert 1 ==1\n"
   ]
  }
 ],
 "metadata": {
  "kernelspec": {
   "display_name": "Python 3",
   "language": "python",
   "name": "python3"
  },
  "language_info": {
   "codemirror_mode": {
    "name": "ipython",
    "version": 3
   },
   "file_extension": ".py",
   "mimetype": "text/x-python",
   "name": "python",
   "nbconvert_exporter": "python",
   "pygments_lexer": "ipython3",
   "version": "3.7.6"
  }
 },
 "nbformat": 4,
 "nbformat_minor": 4
}
