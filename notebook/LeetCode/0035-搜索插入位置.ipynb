{
 "cells": [
  {
   "cell_type": "markdown",
   "metadata": {},
   "source": [
    "难度：简单\n",
    "\n",
    "知识点：数组、二分查找\n",
    "\n",
    "地址：https://leetcode-cn.com/problems/search-insert-position/\n",
    "\n",
    "给定一个排序数组和一个目标值，在数组中找到目标值，并返回其索引。如果目标值不存在于数组中，返回它将会被按顺序插入的位置。\n",
    "\n",
    "你可以假设数组中无重复元素。\n",
    "\n",
    "示例 1:\n",
    "\n",
    "    输入: [1,3,5,6], 5\n",
    "    输出: 2\n",
    "示例 2:\n",
    "\n",
    "    输入: [1,3,5,6], 2\n",
    "    输出: 1\n",
    "示例 3:\n",
    "\n",
    "    输入: [1,3,5,6], 7\n",
    "    输出: 4\n",
    "示例 4:\n",
    "\n",
    "    输入: [1,3,5,6], 0\n",
    "    输出: 0\n"
   ]
  },
  {
   "cell_type": "code",
   "execution_count": 1,
   "metadata": {},
   "outputs": [
    {
     "name": "stdout",
     "output_type": "stream",
     "text": [
      "done\n"
     ]
    }
   ],
   "source": [
    "class Solution:\n",
    "    def searchInsert(self, nums, target) -> int:\n",
    "        left = 0\n",
    "        right = len(nums)- 1\n",
    "\n",
    "        while left <= right:\n",
    "            mid = left + (right - left) // 2\n",
    "            val = nums[mid]\n",
    "            if val == target:\n",
    "                return mid\n",
    "            elif target > val:\n",
    "                left = mid + 1\n",
    "            else:\n",
    "                right = mid - 1\n",
    "        return left\n",
    "        \n",
    "            \n",
    "\n",
    "s = Solution()\n",
    "assert s.searchInsert([1,3,5,6], 5) == 2\n",
    "assert s.searchInsert([1,3,5,6], 2) == 1\n",
    "assert s.searchInsert([1,3,5,6], 7) == 4\n",
    "assert s.searchInsert([1,3,5,6], 0) == 0\n",
    "assert s.searchInsert([1], 0) == 0\n",
    "assert s.searchInsert([1], 1) == 0\n",
    "print('done')"
   ]
  }
 ],
 "metadata": {
  "kernelspec": {
   "display_name": "Python 3",
   "language": "python",
   "name": "python3"
  },
  "language_info": {
   "codemirror_mode": {
    "name": "ipython",
    "version": 3
   },
   "file_extension": ".py",
   "mimetype": "text/x-python",
   "name": "python",
   "nbconvert_exporter": "python",
   "pygments_lexer": "ipython3",
   "version": "3.7.6"
  }
 },
 "nbformat": 4,
 "nbformat_minor": 4
}
