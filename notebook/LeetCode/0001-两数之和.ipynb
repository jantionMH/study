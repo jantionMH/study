{
 "cells": [
  {
   "cell_type": "markdown",
   "metadata": {},
   "source": [
    "难度：简单\n",
    "\n",
    "地址：[https://leetcode-cn.com/problems/two-sum/](https://leetcode-cn.com/problems/two-sum/)\n",
    "\n",
    "给定一个整数数组 nums 和一个目标值 target，请你在该数组中找出和为目标值的那 两个 整数，并返回他们的数组下标。\n",
    "\n",
    "你可以假设每种输入只会对应一个答案。但是，你不能重复利用这个数组中同样的元素。\n",
    "\n",
    "示例:\n",
    "\n",
    "    给定 nums = [2, 7, 11, 15], target = 9\n",
    "    因为 nums[0] + nums[1] = 2 + 7 = 9\n",
    "    所以返回 [0, 1]\n"
   ]
  },
  {
   "cell_type": "code",
   "execution_count": 7,
   "metadata": {},
   "outputs": [
    {
     "data": {
      "text/plain": [
       "[0, 1]"
      ]
     },
     "execution_count": 7,
     "metadata": {},
     "output_type": "execute_result"
    }
   ],
   "source": [
    "class Solution:\n",
    "    def twoSum(self, nums, target):\n",
    "        '''\n",
    "        两遍哈希表 时间复杂度 O(n)\n",
    "        执行用时 : 56 ms, 在Two Sum的Python3提交中击败了89.57% 的用户\n",
    "        内存消耗 : 14.7 MB, 在Two Sum的Python3提交中击败了7.13% 的用户\n",
    "        '''\n",
    "        length = len(nums)\n",
    "        m = {}\n",
    "        for i in range(length):\n",
    "            m[nums[i]] = i\n",
    "        for i in range(length):\n",
    "            x = nums[i]\n",
    "            y = target - x\n",
    "            if y in m:\n",
    "                return [i, m[y]]\n",
    "            \n",
    "        \n",
    "\n",
    "s = Solution()\n",
    "s.twoSum([2, 7, 11, 15], 9)"
   ]
  },
  {
   "cell_type": "code",
   "execution_count": 8,
   "metadata": {},
   "outputs": [
    {
     "data": {
      "text/plain": [
       "[0, 1]"
      ]
     },
     "execution_count": 8,
     "metadata": {},
     "output_type": "execute_result"
    }
   ],
   "source": [
    "class Solution:\n",
    "    def twoSum(self, nums, target):\n",
    "        '''\n",
    "        一遍哈希表 时间复杂度 O(n)\n",
    "        执行用时 : 44 ms, 在Two Sum的Python3提交中击败了99.33% 的用户\n",
    "        内存消耗 : 14 MB, 在Two Sum的Python3提交中击败了56.25% 的用户\n",
    "        '''\n",
    "        m = {}\n",
    "        for i in range(len(nums)):\n",
    "            x = nums[i]\n",
    "            y = target - x\n",
    "            if y in m:\n",
    "                return [m[y], i]\n",
    "            m[x] = i\n",
    "            \n",
    "\n",
    "s = Solution()\n",
    "s.twoSum([2, 7, 11, 15], 9)"
   ]
  }
 ],
 "metadata": {
  "kernelspec": {
   "display_name": "Python 3",
   "language": "python",
   "name": "python3"
  },
  "language_info": {
   "codemirror_mode": {
    "name": "ipython",
    "version": 3
   },
   "file_extension": ".py",
   "mimetype": "text/x-python",
   "name": "python",
   "nbconvert_exporter": "python",
   "pygments_lexer": "ipython3",
   "version": "3.7.6"
  }
 },
 "nbformat": 4,
 "nbformat_minor": 4
}
