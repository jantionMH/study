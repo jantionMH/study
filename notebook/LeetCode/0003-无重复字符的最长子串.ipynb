{
 "cells": [
  {
   "cell_type": "markdown",
   "metadata": {},
   "source": [
    "难度：中等\n",
    "\n",
    "知识点：哈希表、双指针、字符串、Sliding Window\n",
    "\n",
    "地址： [https://leetcode-cn.com/problems/longest-substring-without-repeating-characters/](https://leetcode-cn.com/problems/longest-substring-without-repeating-characters/)\n",
    "\n",
    "\n",
    "给定一个字符串，请你找出其中不含有重复字符的 最长子串 的长度。\n",
    "\n",
    "示例 1:\n",
    "\n",
    "    输入: \"abcabcbb\"\n",
    "    输出: 3\n",
    "    解释: 因为无重复字符的最长子串是 \"abc\"，所以其长度为 3。\n",
    "\n",
    "示例 2:\n",
    "\n",
    "    输入: \"bbbbb\"\n",
    "    输出: 1\n",
    "    解释: 因为无重复字符的最长子串是 \"b\"，所以其长度为 1。\n",
    "\n",
    "示例 3:\n",
    "\n",
    "    输入: \"pwwkew\"\n",
    "    输出: 3\n",
    "    解释: 因为无重复字符的最长子串是 \"wke\"，所以其长度为 3。\n",
    "        请注意，你的答案必须是 子串 的长度，\"pwke\" 是一个子序列，不是子串。\n"
   ]
  },
  {
   "cell_type": "code",
   "execution_count": 4,
   "metadata": {},
   "outputs": [],
   "source": [
    "class Solution:\n",
    "    def lengthOfLongestSubstring(self, s: str) -> int:\n",
    "        '''\n",
    "        滑动窗口 降低代码复杂度\n",
    "        时间复杂度 O(n)\n",
    "        空间复杂度 O(n)\n",
    "        \n",
    "        执行用时 : 100 ms, 在Longest Substring Without Repeating Characters的Python3提交中击败了80.66% 的用户\n",
    "        内存消耗 : 13.1 MB, 在Longest Substring Without Repeating Characters的Python3提交中击败了85.21% 的用户\n",
    "        '''\n",
    "        ans, i= 0, 0\n",
    "        m = {}\n",
    "        for j in range(len(s)):\n",
    "            n = s[j]\n",
    "            if n in m:\n",
    "                i = max(i, m[n] + 1)\n",
    "            ans = max(ans, j - i + 1)\n",
    "            m[n] = j\n",
    "            \n",
    "        return ans\n",
    "\n",
    "        \n",
    "s = Solution()\n",
    "assert s.lengthOfLongestSubstring(\"abcabcbb\") == 3\n",
    "assert s.lengthOfLongestSubstring(\"bbbbb\") == 1\n",
    "assert s.lengthOfLongestSubstring(\"pwwkew\") == 3"
   ]
  }
 ],
 "metadata": {
  "kernelspec": {
   "display_name": "Python 3",
   "language": "python",
   "name": "python3"
  },
  "language_info": {
   "codemirror_mode": {
    "name": "ipython",
    "version": 3
   },
   "file_extension": ".py",
   "mimetype": "text/x-python",
   "name": "python",
   "nbconvert_exporter": "python",
   "pygments_lexer": "ipython3",
   "version": "3.7.6"
  }
 },
 "nbformat": 4,
 "nbformat_minor": 4
}
