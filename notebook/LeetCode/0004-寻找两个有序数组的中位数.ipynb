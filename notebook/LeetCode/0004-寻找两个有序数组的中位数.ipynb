{
 "cells": [
  {
   "cell_type": "markdown",
   "metadata": {},
   "source": [
    "难度：困难\n",
    "\n",
    "知识点：数组、二分查找、分治算法\n",
    "\n",
    "地址： [https://leetcode-cn.com/problems/median-of-two-sorted-arrays/](https://leetcode-cn.com/problems/median-of-two-sorted-arrays/)\n",
    "\n",
    "\n",
    "给定两个大小为 m 和 n 的有序数组 nums1 和 nums2。\n",
    "\n",
    "请你找出这两个有序数组的中位数，并且要求算法的时间复杂度为 O(log(m + n))。\n",
    "\n",
    "你可以假设 nums1 和 nums2 不会同时为空。\n",
    "\n",
    "示例 1:\n",
    "\n",
    "    nums1 = [1, 3]\n",
    "    nums2 = [2]\n",
    "\n",
    "    则中位数是 2.0\n",
    "\n",
    "示例 2:\n",
    "\n",
    "    nums1 = [1, 2]\n",
    "    nums2 = [3, 4]\n",
    "\n",
    "    则中位数是 (2 + 3)/2 = 2.5\n",
    "\n"
   ]
  },
  {
   "cell_type": "code",
   "execution_count": 6,
   "metadata": {},
   "outputs": [],
   "source": [
    "class Solution:\n",
    "\n",
    "    def findMedianSortedArrays(self, nums1: list, nums2: list) -> float:\n",
    "        '''\n",
    "        执行用时 : 104 ms, 在Median of Two Sorted Arrays的Python3提交中击败了62.78% 的用户\n",
    "        内存消耗 : 13.4 MB, 在Median of Two Sorted Arrays的Python3提交中击败了47.77% 的用户\n",
    "        \n",
    "        因为是有序列表，同时按照索引比较两个数组的数，重组一个有序的新列表，长度大的列表比较剩下的部分可以直接拼接到新数组中\n",
    "        '''\n",
    "\n",
    "        nums = []\n",
    "        i, j = 0, 0\n",
    "        while i < len(nums1) and j < len(nums2):\n",
    "            x = nums1[i]\n",
    "            y = nums2[j]\n",
    "            if x < y:\n",
    "                nums.append(x)\n",
    "                i += 1\n",
    "            else:\n",
    "                nums.append(y)\n",
    "                j += 1\n",
    "        if i < len(nums1) and j >= len(nums2):\n",
    "            nums.extend(nums1[i:])\n",
    "        elif i >= len(nums1) and j < len(nums2):\n",
    "            nums.extend(nums2[j:])\n",
    "        \n",
    "        if len(nums) % 2:\n",
    "            return nums[len(nums) // 2]\n",
    "        else:\n",
    "            mid = len(nums) // 2\n",
    "            return (nums[mid] + nums[mid - 1]) / 2\n",
    "            \n",
    "\n",
    "        \n",
    "s = Solution()\n",
    "assert s.findMedianSortedArrays([1, 3], [2]) == 2.0\n",
    "assert s.findMedianSortedArrays([1, 2], [3, 4]) == 2.5"
   ]
  }
 ],
 "metadata": {
  "kernelspec": {
   "display_name": "Python 3",
   "language": "python",
   "name": "python3"
  },
  "language_info": {
   "codemirror_mode": {
    "name": "ipython",
    "version": 3
   },
   "file_extension": ".py",
   "mimetype": "text/x-python",
   "name": "python",
   "nbconvert_exporter": "python",
   "pygments_lexer": "ipython3",
   "version": "3.7.6"
  }
 },
 "nbformat": 4,
 "nbformat_minor": 4
}
