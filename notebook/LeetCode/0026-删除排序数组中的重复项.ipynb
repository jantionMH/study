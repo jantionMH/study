{
 "cells": [
  {
   "cell_type": "markdown",
   "metadata": {},
   "source": [
    "难度：简单\n",
    "\n",
    "知识点：数组、双指针\n",
    "\n",
    "地址：https://leetcode-cn.com/problems/remove-duplicates-from-sorted-array\n",
    "\n",
    "给定一个排序数组，你需要在 原地 删除重复出现的元素，使得每个元素只出现一次，返回移除后数组的新长度。\n",
    "\n",
    "不要使用额外的数组空间，你必须在 原地 修改输入数组 并在使用 O(1) 额外空间的条件下完成。\n",
    "\n",
    " \n",
    "示例 1:\n",
    "\n",
    "    给定数组 nums = [1,1,2], \n",
    "\n",
    "    函数应该返回新的长度 2, 并且原数组 nums 的前两个元素被修改为 1, 2。 \n",
    "\n",
    "    你不需要考虑数组中超出新长度后面的元素。\n",
    "示例 2:\n",
    "\n",
    "    给定 nums = [0,0,1,1,1,2,2,3,3,4],\n",
    "\n",
    "    函数应该返回新的长度 5, 并且原数组 nums 的前五个元素被修改为 0, 1, 2, 3, 4。\n",
    "\n",
    "    你不需要考虑数组中超出新长度后面的元素。\n",
    " \n",
    "\n",
    "说明:\n",
    "\n",
    "    为什么返回数值是整数，但输出的答案是数组呢?\n",
    "\n",
    "    请注意，输入数组是以「引用」方式传递的，这意味着在函数里修改输入数组对于调用者是可见的。\n",
    "\n",
    "    你可以想象内部操作如下:\n",
    "\n",
    "    // nums 是以“引用”方式传递的。也就是说，不对实参做任何拷贝\n",
    "    int len = removeDuplicates(nums);\n",
    "\n",
    "    // 在函数里修改输入数组对于调用者是可见的。\n",
    "    // 根据你的函数返回的长度, 它会打印出数组中该长度范围内的所有元素。\n",
    "    for (int i = 0; i < len; i++) {\n",
    "        print(nums[i]);\n",
    "    }\n"
   ]
  },
  {
   "cell_type": "markdown",
   "metadata": {},
   "source": [
    "## 思路\n",
    "- 根据题目我们首先可以明确一个重要的条件，就是不需要考虑数组中超出新长度后面的元素，也就是说只需要把不重复的数字替换到前面即可\n",
    "- 这里可以使用双指针（i, j）来比较数组, `i = 0, j= 1` 作为起始\n",
    "- 比较 `nums[i] == nums[j]`，如果成立，则将 `j` 向右移动一位。如果不成立，则将 `nums[j]` 替换到 `nums[i + ]`，并将 `i, j` 都向右移动一位。\n",
    "- 最后 `i + 1` 就是不重复数组的长度。"
   ]
  },
  {
   "cell_type": "code",
   "execution_count": 4,
   "metadata": {},
   "outputs": [],
   "source": [
    "class Solution:\n",
    "    def removeDuplicates(self, nums) -> int:\n",
    "        '''\n",
    "        执行用时： 48 ms , 在所有 Python3 提交中击败了 76.34% 的用户\n",
    "        内存消耗： 14.8 MB , 在所有 Python3 提交中击败了 8.16% 的用户\n",
    "\n",
    "        '''\n",
    "        i = 0\n",
    "        for j in range(1, len(nums)):\n",
    "            if nums[i] != nums[j]:\n",
    "                i += 1\n",
    "                nums[i] = nums[j]\n",
    "        return i + 1\n",
    "            \n",
    "    \n",
    "s = Solution()\n",
    "arr = [1,1,2]\n",
    "assert s.removeDuplicates(arr) == 2\n",
    "assert arr[:2] == [1, 2]\n",
    "arr = [0,0,1,1,1,2,2,3,3,4]\n",
    "assert s.removeDuplicates(arr) == 5\n",
    "assert arr[:5] == [0, 1, 2, 3, 4]"
   ]
  }
 ],
 "metadata": {
  "kernelspec": {
   "display_name": "Python 3",
   "language": "python",
   "name": "python3"
  },
  "language_info": {
   "codemirror_mode": {
    "name": "ipython",
    "version": 3
   },
   "file_extension": ".py",
   "mimetype": "text/x-python",
   "name": "python",
   "nbconvert_exporter": "python",
   "pygments_lexer": "ipython3",
   "version": "3.7.6"
  }
 },
 "nbformat": 4,
 "nbformat_minor": 4
}
