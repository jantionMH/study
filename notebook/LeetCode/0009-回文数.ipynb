{
 "cells": [
  {
   "cell_type": "markdown",
   "metadata": {},
   "source": [
    "难度：简单\n",
    "\n",
    "知识点：数学\n",
    "\n",
    "地址：[https://leetcode-cn.com/problems/palindrome-number/](https://leetcode-cn.com/problems/palindrome-number/)\n",
    "\n",
    "判断一个整数是否是回文数。回文数是指正序（从左向右）和倒序（从右向左）读都是一样的整数。\n",
    "\n",
    "示例 1:\n",
    "\n",
    "    输入: 121\n",
    "    输出: true\n",
    "示例 2:\n",
    "\n",
    "    输入: -121\n",
    "    输出: false\n",
    "    解释: 从左向右读, 为 -121 。 从右向左读, 为 121- 。因此它不是一个回文数。\n",
    "示例 3:\n",
    "\n",
    "    输入: 10\n",
    "    输出: false\n",
    "    解释: 从右向左读, 为 01 。因此它不是一个回文数。\n",
    "进阶:\n",
    "\n",
    "    你能不将整数转为字符串来解决这个问题吗？\n",
    "\n"
   ]
  },
  {
   "cell_type": "markdown",
   "metadata": {},
   "source": [
    "## 思路1：数字取余\n",
    "\n",
    "- 数字小于 0 时直接返回 False\n",
    "- 数字等于 0 时直接返回 True\n",
    "- 利用取余的方式将数字反转、最后跟原数字对比，如果相同则返回 True\n",
    "    - 取余的过程中如果原数字能被 10 整除，则返回 False"
   ]
  },
  {
   "cell_type": "code",
   "execution_count": 6,
   "metadata": {},
   "outputs": [],
   "source": [
    "class Solution:\n",
    "    def isPalindrome(self, x: int) -> bool:\n",
    "        '''\n",
    "        执行用时： 96 ms , 在所有 Python3 提交中击败了 40.97% 的用户\n",
    "        内存消耗： 13.7 MB , 在所有 Python3 提交中击败了 5.88% 的用户\n",
    "        '''\n",
    "        if x < 0:\n",
    "            return False\n",
    "        if x == 0:\n",
    "            return True\n",
    "        ans, y = 0, x\n",
    "        while y != 0:\n",
    "            div = y % 10\n",
    "            if div == 0 and ans == 0:\n",
    "                return False\n",
    "            ans = ans * 10 + div\n",
    "            y //=10\n",
    "        if ans == x:\n",
    "            return True\n",
    "        return False\n",
    "\n",
    "s = Solution()\n",
    "assert s.isPalindrome(121) == True\n",
    "assert s.isPalindrome(-121) == False\n",
    "assert s.isPalindrome(10) == False"
   ]
  },
  {
   "cell_type": "markdown",
   "metadata": {},
   "source": [
    "## 思路2：字符串比较\n",
    "\n",
    "- 数字小于 0 时直接返回 False\n",
    "- 数字等于 0 时直接返回 True\n",
    "- 将数字转为字符串，利用滑块，从两端向中间靠拢，首尾字符进行比较，如果返现不一致，则返回 False"
   ]
  },
  {
   "cell_type": "code",
   "execution_count": 5,
   "metadata": {},
   "outputs": [],
   "source": [
    "class Solution:\n",
    "    def isPalindrome(self, x: int) -> bool:\n",
    "        '''\n",
    "        执行用时： 88 ms , 在所有 Python3 提交中击败了 60.64% 的用户\n",
    "        内存消耗： 13.7 MB , 在所有 Python3 提交中击败了 5.88% 的用户\n",
    "        '''\n",
    "        if x < 0:\n",
    "            return False\n",
    "        if x == 0:\n",
    "            return True\n",
    "        s = str(x)\n",
    "        i, j = 0, len(s) - 1\n",
    "        while i < j:\n",
    "            if s[i] != s[j]:\n",
    "                return False\n",
    "            i += 1\n",
    "            j -= 1\n",
    "        return True\n",
    "\n",
    "s = Solution()\n",
    "assert s.isPalindrome(121) == True\n",
    "assert s.isPalindrome(-121) == False\n",
    "assert s.isPalindrome(10) == False"
   ]
  }
 ],
 "metadata": {
  "kernelspec": {
   "display_name": "Python 3",
   "language": "python",
   "name": "python3"
  },
  "language_info": {
   "codemirror_mode": {
    "name": "ipython",
    "version": 3
   },
   "file_extension": ".py",
   "mimetype": "text/x-python",
   "name": "python",
   "nbconvert_exporter": "python",
   "pygments_lexer": "ipython3",
   "version": "3.7.6"
  }
 },
 "nbformat": 4,
 "nbformat_minor": 4
}
