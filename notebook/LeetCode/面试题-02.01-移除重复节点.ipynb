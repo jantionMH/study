{
 "cells": [
  {
   "cell_type": "markdown",
   "metadata": {},
   "source": [
    "难度：简单\n",
    "\n",
    "知识点：链表\n",
    "\n",
    "地址：https://leetcode-cn.com/problems/remove-duplicate-node-lcci/\n",
    "\n",
    "编写代码，移除未排序链表中的重复节点。保留最开始出现的节点。\n",
    "\n",
    "示例1:\n",
    "\n",
    "    输入：[1, 2, 3, 3, 2, 1]\n",
    "    输出：[1, 2, 3]\n",
    "示例2:\n",
    "\n",
    "    输入：[1, 1, 1, 1, 2]\n",
    "    输出：[1, 2]\n",
    "提示：\n",
    "\n",
    "    链表长度在[0, 20000]范围内。\n",
    "    链表元素在[0, 20000]范围内。\n",
    "进阶：\n",
    "\n",
    "    如果不得使用临时缓冲区，该怎么解决？\n"
   ]
  },
  {
   "cell_type": "markdown",
   "metadata": {},
   "source": [
    "## 思路1\n",
    "- 使用哈希表来做重复节点的过滤，使用新链表来装数据\n",
    "- 遍历原链表，如果节点不在哈希表中，则加入到新链表中。如果节点已经存在，则跳过\n",
    "- 最后返回新链表"
   ]
  },
  {
   "cell_type": "code",
   "execution_count": 12,
   "metadata": {},
   "outputs": [],
   "source": [
    "\n",
    "from utils import ListNode\n",
    "from utils import array2listnode\n",
    "from utils import listnode2array\n",
    "\n",
    "class Solution:\n",
    "    def removeDuplicateNodes(self, head: ListNode) -> ListNode:\n",
    "        '''\n",
    "        执行用时： 96 ms , 在所有 Python3 提交中击败了 44.85% 的用户\n",
    "        内存消耗： 23 MB , 在所有 Python3 提交中击败了 100.00% 的用户\n",
    "        '''\n",
    "        l3 = ListNode(0)\n",
    "        l4 = l3\n",
    "        stack = set()\n",
    "        while head:\n",
    "            val = head.val\n",
    "            if val not in stack:\n",
    "                stack.add(val)\n",
    "                l4.next = ListNode(val)\n",
    "                l4 = l4.next\n",
    "            head = head.next\n",
    "        return l3.next\n",
    "\n",
    "s = Solution()\n",
    "assert listnode2array(s.removeDuplicateNodes(array2listnode([1, 2, 3, 3, 2, 1]))) == [1, 2, 3]\n",
    "assert listnode2array(s.removeDuplicateNodes(array2listnode([1, 1, 1, 1, 2]))) == [1, 2]"
   ]
  },
  {
   "cell_type": "markdown",
   "metadata": {},
   "source": [
    "## 思路2\n",
    "- 整体思路与上面相同，只是不用新链表，而是在原链表中做删除\n",
    "- 如果 `head.next` 是否出现在哈希表中，如果出现过，则 `head.next = head.next.next` 跳过\n",
    "- 最后返回当前链表即可"
   ]
  },
  {
   "cell_type": "code",
   "execution_count": 11,
   "metadata": {},
   "outputs": [],
   "source": [
    "\n",
    "from utils import ListNode\n",
    "from utils import array2listnode\n",
    "from utils import listnode2array\n",
    "\n",
    "class Solution:\n",
    "    def removeDuplicateNodes(self, head: ListNode) -> ListNode:\n",
    "        '''\n",
    "        执行用时： 84 ms , 在所有 Python3 提交中击败了 78.10% 的用户\n",
    "        内存消耗： 19.9 MB , 在所有 Python3 提交中击败了 100.00%\n",
    "\n",
    "        '''\n",
    "        if not head:\n",
    "            return head\n",
    "        l4 = head\n",
    "        stack = {head.val}\n",
    "        while l4.next:\n",
    "            n = l4.next\n",
    "            if n.val not in stack:\n",
    "                stack.add(n.val)\n",
    "                l4 = l4.next\n",
    "            else:\n",
    "                l4.next = l4.next.next\n",
    "                \n",
    "        return head\n",
    "\n",
    "s = Solution()\n",
    "assert listnode2array(s.removeDuplicateNodes(array2listnode([1, 2, 3, 3, 2, 1]))) == [1, 2, 3]\n",
    "assert listnode2array(s.removeDuplicateNodes(array2listnode([1, 1, 1, 1, 2]))) == [1, 2]"
   ]
  }
 ],
 "metadata": {
  "kernelspec": {
   "display_name": "Python 3",
   "language": "python",
   "name": "python3"
  },
  "language_info": {
   "codemirror_mode": {
    "name": "ipython",
    "version": 3
   },
   "file_extension": ".py",
   "mimetype": "text/x-python",
   "name": "python",
   "nbconvert_exporter": "python",
   "pygments_lexer": "ipython3",
   "version": "3.7.6"
  }
 },
 "nbformat": 4,
 "nbformat_minor": 4
}
