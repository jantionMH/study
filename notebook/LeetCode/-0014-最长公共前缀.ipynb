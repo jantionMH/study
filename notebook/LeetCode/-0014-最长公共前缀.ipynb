{
 "cells": [
  {
   "cell_type": "markdown",
   "metadata": {},
   "source": [
    "难度：简单\n",
    "\n",
    "知识点：字符串\n",
    "\n",
    "地址：[https://leetcode-cn.com/problems/longest-common-prefix/](https://leetcode-cn.com/problems/longest-common-prefix/)\n",
    "\n",
    "\n",
    "编写一个函数来查找字符串数组中的最长公共前缀。\n",
    "\n",
    "如果不存在公共前缀，返回空字符串 \"\"。\n",
    "\n",
    "示例 1:\n",
    "\n",
    "    输入: [\"flower\",\"flow\",\"flight\"]\n",
    "    输出: \"fl\"\n",
    "示例 2:\n",
    "\n",
    "    输入: [\"dog\",\"racecar\",\"car\"]\n",
    "    输出: \"\"\n",
    "    解释: 输入不存在公共前缀。\n",
    "说明:\n",
    "\n",
    "    所有输入只包含小写字母 a-z 。\n"
   ]
  },
  {
   "cell_type": "code",
   "execution_count": null,
   "metadata": {},
   "outputs": [],
   "source": [
    "class Solution:\n",
    "    def longestCommonPrefix(self, strs) -> str:\n",
    "        strs.sort(key = lambda x: len(x))\n",
    "        res = strs[0]\n",
    "        i = len(res)\n",
    "        while i >= 0:\n",
    "            for s in strs[1:]:\n",
    "                if not s.startswith(res[:i]):\n",
    "                    i -= 1\n",
    "                    break\n",
    "        if i < 0:\n",
    "            return ''\n",
    "        return res[:i]\n",
    "                \n",
    "        \n",
    "\n",
    "s = Solution()\n",
    "assert s.longestCommonPrefix([\"flower\",\"flow\",\"flight\"]) == 'fl'\n",
    "assert s.longestCommonPrefix([\"dog\",\"racecar\",\"car\"]) == ''"
   ]
  }
 ],
 "metadata": {
  "kernelspec": {
   "display_name": "Python 3",
   "language": "python",
   "name": "python3"
  },
  "language_info": {
   "codemirror_mode": {
    "name": "ipython",
    "version": 3
   },
   "file_extension": ".py",
   "mimetype": "text/x-python",
   "name": "python",
   "nbconvert_exporter": "python",
   "pygments_lexer": "ipython3",
   "version": "3.7.6"
  }
 },
 "nbformat": 4,
 "nbformat_minor": 4
}
