{
 "cells": [
  {
   "cell_type": "markdown",
   "metadata": {},
   "source": [
    "难度：简单\n",
    "\n",
    "知识点：数学\n",
    "\n",
    "地址：[https://leetcode-cn.com/problems/reverse-integer/](https://leetcode-cn.com/problems/reverse-integer/)\n",
    "\n",
    "给出一个 32 位的有符号整数，你需要将这个整数中每位上的数字进行反转。\n",
    "\n",
    "示例 1:\n",
    "\n",
    "    输入: 123\n",
    "    输出: 321\n",
    "示例 2:\n",
    "\n",
    "    输入: -123\n",
    "    输出: -321\n",
    "示例 3:\n",
    "\n",
    "    输入: 120\n",
    "    输出: 21\n",
    "注意:\n",
    "\n",
    "    假设我们的环境只能存储得下 32 位的有符号整数，则其数值范围为 [−2^31,  2^31 − 1]。请根据这个假设，如果反转后整数溢出那么就返回 0。\n",
    "    给出一个 32 位的有符号整数，你需要将这个整数中每位上的数字进行反转。\n"
   ]
  },
  {
   "cell_type": "code",
   "execution_count": 14,
   "metadata": {},
   "outputs": [],
   "source": [
    "from config import MAX\n",
    "from config import MIN\n",
    "class Solution:\n",
    "\n",
    "\n",
    "\n",
    "    def reverse(self, x: int) -> int:\n",
    "        '''\n",
    "        弹出和推入数字\n",
    "        时间复杂度 O(logn)\n",
    "        空间复杂度 O(1)\n",
    "        执行用时 : 48 ms, 在Reverse Integer的Python3提交中击败了98.06% 的用户\n",
    "        内存消耗 : 13 MB, 在Reverse Integer的Python3提交中击败了99.21% 的用户        \n",
    "        '''\n",
    "        ans = 0\n",
    "        rem = 10 if x > 0 else -10\n",
    "        while x != 0:\n",
    "            yu = x % rem\n",
    "            ans = ans * 10 + yu\n",
    "            x //= 10\n",
    "            if x < 0 and yu != 0:\n",
    "                x += 1\n",
    "            \n",
    "            if ans > MAX or ans < MIN:\n",
    "                return 0\n",
    "        return ans\n",
    "\n",
    "s = Solution()\n",
    "assert s.reverse(-123) == -321\n",
    "assert s.reverse(123) == 321\n",
    "assert s.reverse(120) == 21\n",
    "\n"
   ]
  }
 ],
 "metadata": {
  "kernelspec": {
   "display_name": "Python 3",
   "language": "python",
   "name": "python3"
  },
  "language_info": {
   "codemirror_mode": {
    "name": "ipython",
    "version": 3
   },
   "file_extension": ".py",
   "mimetype": "text/x-python",
   "name": "python",
   "nbconvert_exporter": "python",
   "pygments_lexer": "ipython3",
   "version": "3.7.6"
  }
 },
 "nbformat": 4,
 "nbformat_minor": 4
}
