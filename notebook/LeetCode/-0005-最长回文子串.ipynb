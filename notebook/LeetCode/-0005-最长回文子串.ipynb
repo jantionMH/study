{
 "cells": [
  {
   "cell_type": "markdown",
   "metadata": {},
   "source": [
    "难度：中等\n",
    "\n",
    "知识点：字符串、动态规划\n",
    "\n",
    "地址：[https://leetcode-cn.com/problems/longest-palindromic-substring/](https://leetcode-cn.com/problems/longest-palindromic-substring/)\n",
    "\n",
    "\n",
    "给定一个字符串 s，找到 s 中最长的回文子串。你可以假设 s 的最大长度为 1000。\n",
    "\n",
    "示例 1：\n",
    "\n",
    "    输入: \"babad\"\n",
    "    输出: \"bab\"\n",
    "    注意: \"aba\" 也是一个有效答案。\n",
    "    \n",
    "示例 2：\n",
    "\n",
    "    输入: \"cbbd\"\n",
    "    输出: \"bb\"\n"
   ]
  },
  {
   "cell_type": "code",
   "execution_count": null,
   "metadata": {},
   "outputs": [],
   "source": []
  }
 ],
 "metadata": {
  "kernelspec": {
   "display_name": "Python 3",
   "language": "python",
   "name": "python3"
  },
  "language_info": {
   "codemirror_mode": {
    "name": "ipython",
    "version": 3
   },
   "file_extension": ".py",
   "mimetype": "text/x-python",
   "name": "python",
   "nbconvert_exporter": "python",
   "pygments_lexer": "ipython3",
   "version": "3.7.6"
  }
 },
 "nbformat": 4,
 "nbformat_minor": 4
}
