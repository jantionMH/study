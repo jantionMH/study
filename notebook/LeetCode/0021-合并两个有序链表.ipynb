{
 "cells": [
  {
   "cell_type": "markdown",
   "metadata": {},
   "source": [
    "难度：简单\n",
    "\n",
    "知识点：链表\n",
    "\n",
    "地址：https://leetcode-cn.com/problems/merge-two-sorted-lists\n",
    "\n",
    "将两个升序链表合并为一个新的 升序 链表并返回。新链表是通过拼接给定的两个链表的所有节点组成的。 \n",
    "\n",
    "示例：\n",
    "\n",
    "    输入：1->2->4, 1->3->4\n",
    "    输出：1->1->2->3->4->4\n"
   ]
  },
  {
   "cell_type": "markdown",
   "metadata": {},
   "source": [
    "## 思路\n",
    "- 因为两个链表都是升序的，所以我们可以同时遍历两个链表，并一一对比，将较小的值依次添加到新链表中\n",
    "- 最后将没有遍历完的链表直接添加到新链表后面即可"
   ]
  },
  {
   "cell_type": "code",
   "execution_count": 4,
   "metadata": {},
   "outputs": [],
   "source": [
    "from utils import ListNode\n",
    "from utils import array2listnode\n",
    "from utils import listnode2array\n",
    "\n",
    "class Solution:\n",
    "    def mergeTwoLists(self, l1: ListNode, l2: ListNode) -> ListNode:\n",
    "        l3 = ListNode(0)\n",
    "        l4 = l3\n",
    "        while l1 and l2:\n",
    "            val1 = l1.val\n",
    "            val2 = l2.val\n",
    "            if val1 <= val2:\n",
    "                l4.next = ListNode(val1)\n",
    "                l1 = l1.next\n",
    "            elif val1 > val2:\n",
    "                l4.next = ListNode(val2)\n",
    "                l2 = l2.next\n",
    "            l4 = l4.next\n",
    "        \n",
    "        if l1:\n",
    "            l4.next = l1\n",
    "        if l2:\n",
    "            l4.next = l2\n",
    "        return l3.next\n",
    "                \n",
    "        \n",
    "    \n",
    "s = Solution()\n",
    "l1 = array2listnode([1, 2, 4])\n",
    "l2 = array2listnode([1, 3, 4])\n",
    "assert listnode2array(s.mergeTwoLists(l1, l2)) == [1, 1, 2, 3, 4, 4]"
   ]
  }
 ],
 "metadata": {
  "kernelspec": {
   "display_name": "Python 3",
   "language": "python",
   "name": "python3"
  },
  "language_info": {
   "codemirror_mode": {
    "name": "ipython",
    "version": 3
   },
   "file_extension": ".py",
   "mimetype": "text/x-python",
   "name": "python",
   "nbconvert_exporter": "python",
   "pygments_lexer": "ipython3",
   "version": "3.7.6"
  }
 },
 "nbformat": 4,
 "nbformat_minor": 4
}
